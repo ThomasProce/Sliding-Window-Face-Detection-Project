{
 "cells": [
  {
   "cell_type": "code",
   "execution_count": 5,
   "metadata": {},
   "outputs": [],
   "source": [
    "# Import necessary libraries for managing datasets, image processing, and modeling.\n",
    "\n",
    "# Datasets and XML parsing\n",
    "import os\n",
    "import glob\n",
    "import pandas as pd\n",
    "import xml.etree.ElementTree as ET\n",
    "import h5py\n",
    "\n",
    "# Image preprocessing\n",
    "from skimage import feature\n",
    "import skimage\n",
    "from sklearn.feature_extraction.image import extract_patches_2d\n",
    "from PIL import Image, ImageFilter, ImageEnhance, ImageDraw, ImageFont\n",
    "import imgaug.augmenters as iaa\n",
    "from skimage.color import rgb2gray\n",
    "from skimage.io import imread\n",
    "from skimage.transform import resize, pyramid_gaussian\n",
    "\n",
    "#Generic libraries\n",
    "import numpy as np\n",
    "import matplotlib.pyplot as plt\n",
    "import argparse\n",
    "import random\n",
    "import os\n",
    "\n",
    "# Model & Training\n",
    "from sklearn.svm import SVC\n",
    "import pickle\n",
    "from sklearn.pipeline import Pipeline\n",
    "from sklearn.preprocessing import MinMaxScaler\n",
    "from scipy.stats import uniform\n",
    "from sklearn.model_selection import RandomizedSearchCV"
   ]
  },
  {
   "cell_type": "markdown",
   "metadata": {},
   "source": [
    "#### Here we define some paths to jpeg and xml files\n",
    "\n",
    "*for generate xml with all information about class and boxes coordinates LabelImg where used*"
   ]
  },
  {
   "cell_type": "code",
   "execution_count": 17,
   "metadata": {},
   "outputs": [],
   "source": [
    "all_jpeg = glob.glob('cumulative_jpeg/'+'*.jpeg')\n",
    "all_xml = glob.glob('cumulative_xml/'+'*.xml')"
   ]
  },
  {
   "cell_type": "code",
   "execution_count": 18,
   "metadata": {},
   "outputs": [
    {
     "name": "stdout",
     "output_type": "stream",
     "text": [
      "<xml.etree.ElementTree.ElementTree object at 0x12f6bba60>\n",
      "['folder', 'filename', 'path', 'source', 'size', 'segmented', 'object', 'object', 'object', 'object', 'object', 'object', 'object', 'object', 'object', 'object', 'object', 'object', 'object']\n"
     ]
    }
   ],
   "source": [
    "# Iterate through all XML files and build a tree object for each one.\n",
    "# The last tree object in the loop will be the one retained.\n",
    "for t in all_xml:\n",
    "    tree = ET.parse(t)\n",
    "\n",
    "# Get the root element of the tree, which represents the top-level element in the XML file.\n",
    "root = tree.getroot()\n",
    "\n",
    "# Print the XML tree (this will display the tree's root element and its structure).\n",
    "print(tree)\n",
    "\n",
    "# Initialize an empty list to store the tags present in the XML files.\n",
    "child_tags = []\n",
    "\n",
    "# Iterate through the children of the root element and extract their tag names.\n",
    "# Append these tag names to the child_tags list.\n",
    "for child in root:\n",
    "    childtag = child.tag\n",
    "    child_tags.append(childtag)\n",
    "\n",
    "# Print the list of extracted child tags from the XML files.\n",
    "print(child_tags)"
   ]
  },
  {
   "cell_type": "code",
   "execution_count": 19,
   "metadata": {},
   "outputs": [
    {
     "name": "stdout",
     "output_type": "stream",
     "text": [
      "<Element 'width' at 0x12fa09d60>\n",
      "<Element 'height' at 0x12fa09d10>\n",
      "<Element 'depth' at 0x12fa09cc0>\n"
     ]
    }
   ],
   "source": [
    "# Iterate through the elements within the \"size\" tag.\n",
    "# This tag often contains information about the width and height of the images.\n",
    "for s in root.find('size'):\n",
    "    # Print the individual elements within the \"size\" tag.\n",
    "    print(s)"
   ]
  },
  {
   "cell_type": "markdown",
   "metadata": {},
   "source": [
    "#### With this code we can extract bouding boxes coordinates from the xml files"
   ]
  },
  {
   "cell_type": "code",
   "execution_count": 20,
   "metadata": {},
   "outputs": [
    {
     "name": "stdout",
     "output_type": "stream",
     "text": [
      "Bounding Box 1 - Object: face\n",
      "xmin: 15, ymin: 14, xmax: 79, ymax: 72\n",
      "Bounding Box 2 - Object: face\n",
      "xmin: 55, ymin: 55, xmax: 98, ymax: 108\n"
     ]
    }
   ],
   "source": [
    "def extract_bounding_boxes(xml_files):\n",
    "    bounding_boxes = []\n",
    "\n",
    "    for t in xml_files:\n",
    "        tree = ET.parse(t)\n",
    "        root = tree.getroot()\n",
    "\n",
    "        for obj in root.findall('object'):\n",
    "            name = obj.find('name').text\n",
    "            bndbox = obj.find('bndbox')\n",
    "            xmin = int(bndbox.find('xmin').text)\n",
    "            ymin = int(bndbox.find('ymin').text)\n",
    "            xmax = int(bndbox.find('xmax').text)\n",
    "            ymax = int(bndbox.find('ymax').text)\n",
    "            bounding_box_info = {'name': name, 'xmin': xmin,\n",
    "                                 'ymin': ymin, 'xmax': xmax,\n",
    "                                 'ymax': ymax}\n",
    "            bounding_boxes.append(bounding_box_info)\n",
    "\n",
    "    return bounding_boxes\n",
    "\n",
    "# Call the function with list of XML files\n",
    "bounding_boxes = extract_bounding_boxes(all_xml)\n",
    "\n",
    "# Print the extracted bounding box information as an example to show how it works\n",
    "for index, box in enumerate(bounding_boxes[:2], start=1):\n",
    "    print(f\"Bounding Box {index} - Object: {box['name']}\")\n",
    "    print(f\"xmin: {box['xmin']}, ymin: {box['ymin']}, xmax: {box['xmax']}, ymax: {box['ymax']}\")"
   ]
  },
  {
   "cell_type": "markdown",
   "metadata": {},
   "source": [
    "##### Here we generate a dataframe with the most important information"
   ]
  },
  {
   "cell_type": "code",
   "execution_count": 23,
   "metadata": {},
   "outputs": [],
   "source": [
    "def df_from_xml(xml_path):\n",
    "    \"\"\"\n",
    "    Generates a DataFrame from XML files containing object and bounding box information.\n",
    "\n",
    "    Args:\n",
    "        xml_path (str): Path to the directory containing XML files.\n",
    "\n",
    "    Returns:\n",
    "        pd.DataFrame: DataFrame containing object and bounding box information.\n",
    "    \"\"\"\n",
    "\n",
    "    xml_list = []\n",
    "    # Iterate through XML files in the specified directory\n",
    "    for x_file in all_xml:\n",
    "        tree = ET.parse(x_file)\n",
    "        root = tree.getroot()\n",
    "        filename = root.find('filename').text\n",
    "        width = int(root.find('size').find('width').text)\n",
    "        height = int(root.find('size').find('height').text)\n",
    "\n",
    "        # Iterate through bounding boxes in the XML file\n",
    "        for bb in root.findall('object'):\n",
    "            bndbox = bb.find('bndbox')\n",
    "            value = (\n",
    "                filename,\n",
    "                width,\n",
    "                height,\n",
    "                bb.find('name').text,\n",
    "                int(bndbox.find('xmin').text),\n",
    "                int(bndbox.find('ymin').text),\n",
    "                int(bndbox.find('xmax').text),\n",
    "                int(bndbox.find('ymax').text)\n",
    "            )\n",
    "            xml_list.append(value)\n",
    "\n",
    "    # Create a DataFrame from the collected information\n",
    "    column_names = ['filename', 'width', 'height', 'class', 'xmin', 'ymin', 'xmax', 'ymax']\n",
    "    dataset = pd.DataFrame(xml_list, columns=column_names)\n",
    "    return dataset"
   ]
  },
  {
   "cell_type": "code",
   "execution_count": 25,
   "metadata": {},
   "outputs": [],
   "source": [
    "dataset = df_from_xml(all_xml)"
   ]
  },
  {
   "cell_type": "code",
   "execution_count": 27,
   "metadata": {},
   "outputs": [],
   "source": [
    "dataset.to_csv('faces.csv',index=False)"
   ]
  },
  {
   "cell_type": "code",
   "execution_count": 31,
   "metadata": {},
   "outputs": [
    {
     "data": {
      "text/plain": [
       "class\n",
       "face    242\n",
       "Name: count, dtype: int64"
      ]
     },
     "execution_count": 31,
     "metadata": {},
     "output_type": "execute_result"
    }
   ],
   "source": [
    "dataset['class'].value_counts()"
   ]
  },
  {
   "cell_type": "code",
   "execution_count": 32,
   "metadata": {},
   "outputs": [
    {
     "name": "stdout",
     "output_type": "stream",
     "text": [
      "<class 'pandas.core.frame.DataFrame'>\n",
      "RangeIndex: 242 entries, 0 to 241\n",
      "Data columns (total 8 columns):\n",
      " #   Column    Non-Null Count  Dtype \n",
      "---  ------    --------------  ----- \n",
      " 0   filename  242 non-null    object\n",
      " 1   width     242 non-null    int64 \n",
      " 2   height    242 non-null    int64 \n",
      " 3   class     242 non-null    object\n",
      " 4   xmin      242 non-null    int64 \n",
      " 5   ymin      242 non-null    int64 \n",
      " 6   xmax      242 non-null    int64 \n",
      " 7   ymax      242 non-null    int64 \n",
      "dtypes: int64(6), object(2)\n",
      "memory usage: 15.2+ KB\n"
     ]
    }
   ],
   "source": [
    "dataset.info()"
   ]
  },
  {
   "cell_type": "code",
   "execution_count": 33,
   "metadata": {},
   "outputs": [
    {
     "data": {
      "text/html": [
       "<div>\n",
       "<style scoped>\n",
       "    .dataframe tbody tr th:only-of-type {\n",
       "        vertical-align: middle;\n",
       "    }\n",
       "\n",
       "    .dataframe tbody tr th {\n",
       "        vertical-align: top;\n",
       "    }\n",
       "\n",
       "    .dataframe thead th {\n",
       "        text-align: right;\n",
       "    }\n",
       "</style>\n",
       "<table border=\"1\" class=\"dataframe\">\n",
       "  <thead>\n",
       "    <tr style=\"text-align: right;\">\n",
       "      <th></th>\n",
       "      <th>width</th>\n",
       "      <th>height</th>\n",
       "      <th>xmin</th>\n",
       "      <th>ymin</th>\n",
       "      <th>xmax</th>\n",
       "      <th>ymax</th>\n",
       "    </tr>\n",
       "  </thead>\n",
       "  <tbody>\n",
       "    <tr>\n",
       "      <th>count</th>\n",
       "      <td>242.000000</td>\n",
       "      <td>242.000000</td>\n",
       "      <td>242.000000</td>\n",
       "      <td>242.000000</td>\n",
       "      <td>242.000000</td>\n",
       "      <td>242.000000</td>\n",
       "    </tr>\n",
       "    <tr>\n",
       "      <th>mean</th>\n",
       "      <td>259.318182</td>\n",
       "      <td>181.033058</td>\n",
       "      <td>109.574380</td>\n",
       "      <td>56.016529</td>\n",
       "      <td>149.132231</td>\n",
       "      <td>98.128099</td>\n",
       "    </tr>\n",
       "    <tr>\n",
       "      <th>std</th>\n",
       "      <td>76.906704</td>\n",
       "      <td>43.535827</td>\n",
       "      <td>68.676376</td>\n",
       "      <td>41.890290</td>\n",
       "      <td>79.294916</td>\n",
       "      <td>53.956992</td>\n",
       "    </tr>\n",
       "    <tr>\n",
       "      <th>min</th>\n",
       "      <td>100.000000</td>\n",
       "      <td>100.000000</td>\n",
       "      <td>1.000000</td>\n",
       "      <td>3.000000</td>\n",
       "      <td>18.000000</td>\n",
       "      <td>20.000000</td>\n",
       "    </tr>\n",
       "    <tr>\n",
       "      <th>25%</th>\n",
       "      <td>225.000000</td>\n",
       "      <td>168.000000</td>\n",
       "      <td>59.000000</td>\n",
       "      <td>25.500000</td>\n",
       "      <td>88.000000</td>\n",
       "      <td>61.000000</td>\n",
       "    </tr>\n",
       "    <tr>\n",
       "      <th>50%</th>\n",
       "      <td>275.000000</td>\n",
       "      <td>181.000000</td>\n",
       "      <td>101.000000</td>\n",
       "      <td>48.000000</td>\n",
       "      <td>146.000000</td>\n",
       "      <td>88.000000</td>\n",
       "    </tr>\n",
       "    <tr>\n",
       "      <th>75%</th>\n",
       "      <td>300.000000</td>\n",
       "      <td>194.000000</td>\n",
       "      <td>154.250000</td>\n",
       "      <td>65.000000</td>\n",
       "      <td>201.000000</td>\n",
       "      <td>130.750000</td>\n",
       "    </tr>\n",
       "    <tr>\n",
       "      <th>max</th>\n",
       "      <td>1024.000000</td>\n",
       "      <td>575.000000</td>\n",
       "      <td>386.000000</td>\n",
       "      <td>225.000000</td>\n",
       "      <td>704.000000</td>\n",
       "      <td>575.000000</td>\n",
       "    </tr>\n",
       "  </tbody>\n",
       "</table>\n",
       "</div>"
      ],
      "text/plain": [
       "             width      height        xmin        ymin        xmax        ymax\n",
       "count   242.000000  242.000000  242.000000  242.000000  242.000000  242.000000\n",
       "mean    259.318182  181.033058  109.574380   56.016529  149.132231   98.128099\n",
       "std      76.906704   43.535827   68.676376   41.890290   79.294916   53.956992\n",
       "min     100.000000  100.000000    1.000000    3.000000   18.000000   20.000000\n",
       "25%     225.000000  168.000000   59.000000   25.500000   88.000000   61.000000\n",
       "50%     275.000000  181.000000  101.000000   48.000000  146.000000   88.000000\n",
       "75%     300.000000  194.000000  154.250000   65.000000  201.000000  130.750000\n",
       "max    1024.000000  575.000000  386.000000  225.000000  704.000000  575.000000"
      ]
     },
     "execution_count": 33,
     "metadata": {},
     "output_type": "execute_result"
    }
   ],
   "source": [
    "dataset.describe()"
   ]
  },
  {
   "cell_type": "code",
   "execution_count": null,
   "metadata": {},
   "outputs": [],
   "source": []
  }
 ],
 "metadata": {
  "kernelspec": {
   "display_name": "Python 3",
   "language": "python",
   "name": "python3"
  },
  "language_info": {
   "codemirror_mode": {
    "name": "ipython",
    "version": 3
   },
   "file_extension": ".py",
   "mimetype": "text/x-python",
   "name": "python",
   "nbconvert_exporter": "python",
   "pygments_lexer": "ipython3",
   "version": "3.9.6"
  },
  "orig_nbformat": 4
 },
 "nbformat": 4,
 "nbformat_minor": 2
}
