{
 "cells": [
  {
   "cell_type": "code",
   "execution_count": 5,
   "metadata": {},
   "outputs": [],
   "source": [
    "# Import necessary libraries for managing datasets, image processing, and modeling.\n",
    "\n",
    "# Datasets and XML parsing\n",
    "import os\n",
    "import glob\n",
    "import pandas as pd\n",
    "import xml.etree.ElementTree as ET\n",
    "import h5py\n",
    "\n",
    "# Image preprocessing\n",
    "from skimage import feature\n",
    "import skimage\n",
    "from sklearn.feature_extraction.image import extract_patches_2d\n",
    "from PIL import Image, ImageFilter, ImageEnhance, ImageDraw, ImageFont\n",
    "import imgaug.augmenters as iaa\n",
    "from skimage.color import rgb2gray\n",
    "from skimage.io import imread\n",
    "from skimage.transform import resize, pyramid_gaussian\n",
    "\n",
    "#Generic libraries\n",
    "import numpy as np\n",
    "import matplotlib.pyplot as plt\n",
    "import argparse\n",
    "import random\n",
    "import os\n",
    "\n",
    "# Model & Training\n",
    "from sklearn.svm import SVC\n",
    "import pickle\n",
    "from sklearn.pipeline import Pipeline\n",
    "from sklearn.preprocessing import MinMaxScaler\n",
    "from scipy.stats import uniform\n",
    "from sklearn.model_selection import RandomizedSearchCV"
   ]
  },
  {
   "cell_type": "markdown",
   "metadata": {},
   "source": [
    "#### Here we define some paths to jpeg and xml files\n",
    "\n",
    "*for generate xml with all information about class and boxes coordinates LabelImg where used*"
   ]
  },
  {
   "cell_type": "code",
   "execution_count": 17,
   "metadata": {},
   "outputs": [],
   "source": [
    "all_jpeg = glob.glob('cumulative_jpeg/'+'*.jpeg')\n",
    "all_xml = glob.glob('cumulative_xml/'+'*.xml')"
   ]
  },
  {
   "cell_type": "code",
   "execution_count": 18,
   "metadata": {},
   "outputs": [
    {
     "name": "stdout",
     "output_type": "stream",
     "text": [
      "<xml.etree.ElementTree.ElementTree object at 0x12f6bba60>\n",
      "['folder', 'filename', 'path', 'source', 'size', 'segmented', 'object', 'object', 'object', 'object', 'object', 'object', 'object', 'object', 'object', 'object', 'object', 'object', 'object']\n"
     ]
    }
   ],
   "source": [
    "# Iterate through all XML files and build a tree object for each one.\n",
    "# The last tree object in the loop will be the one retained.\n",
    "for t in all_xml:\n",
    "    tree = ET.parse(t)\n",
    "\n",
    "# Get the root element of the tree, which represents the top-level element in the XML file.\n",
    "root = tree.getroot()\n",
    "\n",
    "# Print the XML tree (this will display the tree's root element and its structure).\n",
    "print(tree)\n",
    "\n",
    "# Initialize an empty list to store the tags present in the XML files.\n",
    "child_tags = []\n",
    "\n",
    "# Iterate through the children of the root element and extract their tag names.\n",
    "# Append these tag names to the child_tags list.\n",
    "for child in root:\n",
    "    childtag = child.tag\n",
    "    child_tags.append(childtag)\n",
    "\n",
    "# Print the list of extracted child tags from the XML files.\n",
    "print(child_tags)"
   ]
  },
  {
   "cell_type": "code",
   "execution_count": 19,
   "metadata": {},
   "outputs": [
    {
     "name": "stdout",
     "output_type": "stream",
     "text": [
      "<Element 'width' at 0x12fa09d60>\n",
      "<Element 'height' at 0x12fa09d10>\n",
      "<Element 'depth' at 0x12fa09cc0>\n"
     ]
    }
   ],
   "source": [
    "# Iterate through the elements within the \"size\" tag.\n",
    "# This tag often contains information about the width and height of the images.\n",
    "for s in root.find('size'):\n",
    "    # Print the individual elements within the \"size\" tag.\n",
    "    print(s)"
   ]
  },
  {
   "cell_type": "markdown",
   "metadata": {},
   "source": [
    "#### With this code we can extract bouding boxes coordinates from the xml files"
   ]
  },
  {
   "cell_type": "code",
   "execution_count": 20,
   "metadata": {},
   "outputs": [
    {
     "name": "stdout",
     "output_type": "stream",
     "text": [
      "Bounding Box 1 - Object: face\n",
      "xmin: 15, ymin: 14, xmax: 79, ymax: 72\n",
      "Bounding Box 2 - Object: face\n",
      "xmin: 55, ymin: 55, xmax: 98, ymax: 108\n"
     ]
    }
   ],
   "source": [
    "def extract_bounding_boxes(xml_files):\n",
    "    bounding_boxes = []\n",
    "\n",
    "    for t in xml_files:\n",
    "        tree = ET.parse(t)\n",
    "        root = tree.getroot()\n",
    "\n",
    "        for obj in root.findall('object'):\n",
    "            name = obj.find('name').text\n",
    "            bndbox = obj.find('bndbox')\n",
    "            xmin = int(bndbox.find('xmin').text)\n",
    "            ymin = int(bndbox.find('ymin').text)\n",
    "            xmax = int(bndbox.find('xmax').text)\n",
    "            ymax = int(bndbox.find('ymax').text)\n",
    "            bounding_box_info = {'name': name, 'xmin': xmin,\n",
    "                                 'ymin': ymin, 'xmax': xmax,\n",
    "                                 'ymax': ymax}\n",
    "            bounding_boxes.append(bounding_box_info)\n",
    "\n",
    "    return bounding_boxes\n",
    "\n",
    "# Call the function with list of XML files\n",
    "bounding_boxes = extract_bounding_boxes(all_xml)\n",
    "\n",
    "# Print the extracted bounding box information as an example to show how it works\n",
    "for index, box in enumerate(bounding_boxes[:2], start=1):\n",
    "    print(f\"Bounding Box {index} - Object: {box['name']}\")\n",
    "    print(f\"xmin: {box['xmin']}, ymin: {box['ymin']}, xmax: {box['xmax']}, ymax: {box['ymax']}\")"
   ]
  }
 ],
 "metadata": {
  "kernelspec": {
   "display_name": "Python 3",
   "language": "python",
   "name": "python3"
  },
  "language_info": {
   "codemirror_mode": {
    "name": "ipython",
    "version": 3
   },
   "file_extension": ".py",
   "mimetype": "text/x-python",
   "name": "python",
   "nbconvert_exporter": "python",
   "pygments_lexer": "ipython3",
   "version": "3.9.6"
  },
  "orig_nbformat": 4
 },
 "nbformat": 4,
 "nbformat_minor": 2
}
